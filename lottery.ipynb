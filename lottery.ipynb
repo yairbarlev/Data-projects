{
 "cells": [
  {
   "cell_type": "code",
   "execution_count": 4,
   "metadata": {
    "collapsed": false,
    "trusted": true
   },
   "outputs": [
   ],
   "source": [
    "import pandas as pd"
   ]
  },
  {
   "cell_type": "code",
   "execution_count": 3,
   "metadata": {
    "collapsed": false
   },
   "outputs": [
    {
     "ename": "FileNotFoundError",
     "evalue": "[Errno 2] No such file or directory: 'lotto.csv'",
     "output_type": "error",
     "traceback": [
      "\u001b[0;31m---------------------------------------------------------------------------\u001b[0m",
      "\u001b[0;31mFileNotFoundError\u001b[0m                         Traceback (most recent call last)",
      "\u001b[0;32m<ipython-input-3-0689f2cc8166>\u001b[0m in \u001b[0;36m<module>\u001b[0;34m\u001b[0m\n\u001b[1;32m      1\u001b[0m \u001b[0;31m#loading all possible combination from csv\u001b[0m\u001b[0;34m\u001b[0m\u001b[0;34m\u001b[0m\u001b[0;34m\u001b[0m\u001b[0m\n\u001b[0;32m----> 2\u001b[0;31m \u001b[0mlotto\u001b[0m \u001b[0;34m=\u001b[0m \u001b[0mpd\u001b[0m\u001b[0;34m.\u001b[0m\u001b[0mread_csv\u001b[0m\u001b[0;34m(\u001b[0m\u001b[0;34m'lotto.csv'\u001b[0m\u001b[0;34m)\u001b[0m\u001b[0;34m\u001b[0m\u001b[0;34m\u001b[0m\u001b[0m\n\u001b[0m",
      "\u001b[0;32m/usr/local/lib/python3.8/dist-packages/pandas/io/parsers.py\u001b[0m in \u001b[0;36mread_csv\u001b[0;34m(filepath_or_buffer, sep, delimiter, header, names, index_col, usecols, squeeze, prefix, mangle_dupe_cols, dtype, engine, converters, true_values, false_values, skipinitialspace, skiprows, skipfooter, nrows, na_values, keep_default_na, na_filter, verbose, skip_blank_lines, parse_dates, infer_datetime_format, keep_date_col, date_parser, dayfirst, cache_dates, iterator, chunksize, compression, thousands, decimal, lineterminator, quotechar, quoting, doublequote, escapechar, comment, encoding, dialect, error_bad_lines, warn_bad_lines, delim_whitespace, low_memory, memory_map, float_precision, storage_options)\u001b[0m\n\u001b[1;32m    608\u001b[0m     \u001b[0mkwds\u001b[0m\u001b[0;34m.\u001b[0m\u001b[0mupdate\u001b[0m\u001b[0;34m(\u001b[0m\u001b[0mkwds_defaults\u001b[0m\u001b[0;34m)\u001b[0m\u001b[0;34m\u001b[0m\u001b[0;34m\u001b[0m\u001b[0m\n\u001b[1;32m    609\u001b[0m \u001b[0;34m\u001b[0m\u001b[0m\n\u001b[0;32m--> 610\u001b[0;31m     \u001b[0;32mreturn\u001b[0m \u001b[0m_read\u001b[0m\u001b[0;34m(\u001b[0m\u001b[0mfilepath_or_buffer\u001b[0m\u001b[0;34m,\u001b[0m \u001b[0mkwds\u001b[0m\u001b[0;34m)\u001b[0m\u001b[0;34m\u001b[0m\u001b[0;34m\u001b[0m\u001b[0m\n\u001b[0m\u001b[1;32m    611\u001b[0m \u001b[0;34m\u001b[0m\u001b[0m\n\u001b[1;32m    612\u001b[0m \u001b[0;34m\u001b[0m\u001b[0m\n",
      "\u001b[0;32m/usr/local/lib/python3.8/dist-packages/pandas/io/parsers.py\u001b[0m in \u001b[0;36m_read\u001b[0;34m(filepath_or_buffer, kwds)\u001b[0m\n\u001b[1;32m    460\u001b[0m \u001b[0;34m\u001b[0m\u001b[0m\n\u001b[1;32m    461\u001b[0m     \u001b[0;31m# Create the parser.\u001b[0m\u001b[0;34m\u001b[0m\u001b[0;34m\u001b[0m\u001b[0;34m\u001b[0m\u001b[0m\n\u001b[0;32m--> 462\u001b[0;31m     \u001b[0mparser\u001b[0m \u001b[0;34m=\u001b[0m \u001b[0mTextFileReader\u001b[0m\u001b[0;34m(\u001b[0m\u001b[0mfilepath_or_buffer\u001b[0m\u001b[0;34m,\u001b[0m \u001b[0;34m**\u001b[0m\u001b[0mkwds\u001b[0m\u001b[0;34m)\u001b[0m\u001b[0;34m\u001b[0m\u001b[0;34m\u001b[0m\u001b[0m\n\u001b[0m\u001b[1;32m    463\u001b[0m \u001b[0;34m\u001b[0m\u001b[0m\n\u001b[1;32m    464\u001b[0m     \u001b[0;32mif\u001b[0m \u001b[0mchunksize\u001b[0m \u001b[0;32mor\u001b[0m \u001b[0miterator\u001b[0m\u001b[0;34m:\u001b[0m\u001b[0;34m\u001b[0m\u001b[0;34m\u001b[0m\u001b[0m\n",
      "\u001b[0;32m/usr/local/lib/python3.8/dist-packages/pandas/io/parsers.py\u001b[0m in \u001b[0;36m__init__\u001b[0;34m(self, f, engine, **kwds)\u001b[0m\n\u001b[1;32m    817\u001b[0m             \u001b[0mself\u001b[0m\u001b[0;34m.\u001b[0m\u001b[0moptions\u001b[0m\u001b[0;34m[\u001b[0m\u001b[0;34m\"has_index_names\"\u001b[0m\u001b[0;34m]\u001b[0m \u001b[0;34m=\u001b[0m \u001b[0mkwds\u001b[0m\u001b[0;34m[\u001b[0m\u001b[0;34m\"has_index_names\"\u001b[0m\u001b[0;34m]\u001b[0m\u001b[0;34m\u001b[0m\u001b[0;34m\u001b[0m\u001b[0m\n\u001b[1;32m    818\u001b[0m \u001b[0;34m\u001b[0m\u001b[0m\n\u001b[0;32m--> 819\u001b[0;31m         \u001b[0mself\u001b[0m\u001b[0;34m.\u001b[0m\u001b[0m_engine\u001b[0m \u001b[0;34m=\u001b[0m \u001b[0mself\u001b[0m\u001b[0;34m.\u001b[0m\u001b[0m_make_engine\u001b[0m\u001b[0;34m(\u001b[0m\u001b[0mself\u001b[0m\u001b[0;34m.\u001b[0m\u001b[0mengine\u001b[0m\u001b[0;34m)\u001b[0m\u001b[0;34m\u001b[0m\u001b[0;34m\u001b[0m\u001b[0m\n\u001b[0m\u001b[1;32m    820\u001b[0m \u001b[0;34m\u001b[0m\u001b[0m\n\u001b[1;32m    821\u001b[0m     \u001b[0;32mdef\u001b[0m \u001b[0mclose\u001b[0m\u001b[0;34m(\u001b[0m\u001b[0mself\u001b[0m\u001b[0;34m)\u001b[0m\u001b[0;34m:\u001b[0m\u001b[0;34m\u001b[0m\u001b[0;34m\u001b[0m\u001b[0m\n",
      "\u001b[0;32m/usr/local/lib/python3.8/dist-packages/pandas/io/parsers.py\u001b[0m in \u001b[0;36m_make_engine\u001b[0;34m(self, engine)\u001b[0m\n\u001b[1;32m   1048\u001b[0m             )\n\u001b[1;32m   1049\u001b[0m         \u001b[0;31m# error: Too many arguments for \"ParserBase\"\u001b[0m\u001b[0;34m\u001b[0m\u001b[0;34m\u001b[0m\u001b[0;34m\u001b[0m\u001b[0m\n\u001b[0;32m-> 1050\u001b[0;31m         \u001b[0;32mreturn\u001b[0m \u001b[0mmapping\u001b[0m\u001b[0;34m[\u001b[0m\u001b[0mengine\u001b[0m\u001b[0;34m]\u001b[0m\u001b[0;34m(\u001b[0m\u001b[0mself\u001b[0m\u001b[0;34m.\u001b[0m\u001b[0mf\u001b[0m\u001b[0;34m,\u001b[0m \u001b[0;34m**\u001b[0m\u001b[0mself\u001b[0m\u001b[0;34m.\u001b[0m\u001b[0moptions\u001b[0m\u001b[0;34m)\u001b[0m  \u001b[0;31m# type: ignore[call-arg]\u001b[0m\u001b[0;34m\u001b[0m\u001b[0;34m\u001b[0m\u001b[0m\n\u001b[0m\u001b[1;32m   1051\u001b[0m \u001b[0;34m\u001b[0m\u001b[0m\n\u001b[1;32m   1052\u001b[0m     \u001b[0;32mdef\u001b[0m \u001b[0m_failover_to_python\u001b[0m\u001b[0;34m(\u001b[0m\u001b[0mself\u001b[0m\u001b[0;34m)\u001b[0m\u001b[0;34m:\u001b[0m\u001b[0;34m\u001b[0m\u001b[0;34m\u001b[0m\u001b[0m\n",
      "\u001b[0;32m/usr/local/lib/python3.8/dist-packages/pandas/io/parsers.py\u001b[0m in \u001b[0;36m__init__\u001b[0;34m(self, src, **kwds)\u001b[0m\n\u001b[1;32m   1865\u001b[0m \u001b[0;34m\u001b[0m\u001b[0m\n\u001b[1;32m   1866\u001b[0m         \u001b[0;31m# open handles\u001b[0m\u001b[0;34m\u001b[0m\u001b[0;34m\u001b[0m\u001b[0;34m\u001b[0m\u001b[0m\n\u001b[0;32m-> 1867\u001b[0;31m         \u001b[0mself\u001b[0m\u001b[0;34m.\u001b[0m\u001b[0m_open_handles\u001b[0m\u001b[0;34m(\u001b[0m\u001b[0msrc\u001b[0m\u001b[0;34m,\u001b[0m \u001b[0mkwds\u001b[0m\u001b[0;34m)\u001b[0m\u001b[0;34m\u001b[0m\u001b[0;34m\u001b[0m\u001b[0m\n\u001b[0m\u001b[1;32m   1868\u001b[0m         \u001b[0;32massert\u001b[0m \u001b[0mself\u001b[0m\u001b[0;34m.\u001b[0m\u001b[0mhandles\u001b[0m \u001b[0;32mis\u001b[0m \u001b[0;32mnot\u001b[0m \u001b[0;32mNone\u001b[0m\u001b[0;34m\u001b[0m\u001b[0;34m\u001b[0m\u001b[0m\n\u001b[1;32m   1869\u001b[0m         \u001b[0;32mfor\u001b[0m \u001b[0mkey\u001b[0m \u001b[0;32min\u001b[0m \u001b[0;34m(\u001b[0m\u001b[0;34m\"storage_options\"\u001b[0m\u001b[0;34m,\u001b[0m \u001b[0;34m\"encoding\"\u001b[0m\u001b[0;34m,\u001b[0m \u001b[0;34m\"memory_map\"\u001b[0m\u001b[0;34m,\u001b[0m \u001b[0;34m\"compression\"\u001b[0m\u001b[0;34m)\u001b[0m\u001b[0;34m:\u001b[0m\u001b[0;34m\u001b[0m\u001b[0;34m\u001b[0m\u001b[0m\n",
      "\u001b[0;32m/usr/local/lib/python3.8/dist-packages/pandas/io/parsers.py\u001b[0m in \u001b[0;36m_open_handles\u001b[0;34m(self, src, kwds)\u001b[0m\n\u001b[1;32m   1360\u001b[0m         \u001b[0mLet\u001b[0m \u001b[0mthe\u001b[0m \u001b[0mreaders\u001b[0m \u001b[0mopen\u001b[0m \u001b[0mIOHanldes\u001b[0m \u001b[0mafter\u001b[0m \u001b[0mthey\u001b[0m \u001b[0mare\u001b[0m \u001b[0mdone\u001b[0m \u001b[0;32mwith\u001b[0m \u001b[0mtheir\u001b[0m \u001b[0mpotential\u001b[0m \u001b[0mraises\u001b[0m\u001b[0;34m.\u001b[0m\u001b[0;34m\u001b[0m\u001b[0;34m\u001b[0m\u001b[0m\n\u001b[1;32m   1361\u001b[0m         \"\"\"\n\u001b[0;32m-> 1362\u001b[0;31m         self.handles = get_handle(\n\u001b[0m\u001b[1;32m   1363\u001b[0m             \u001b[0msrc\u001b[0m\u001b[0;34m,\u001b[0m\u001b[0;34m\u001b[0m\u001b[0;34m\u001b[0m\u001b[0m\n\u001b[1;32m   1364\u001b[0m             \u001b[0;34m\"r\"\u001b[0m\u001b[0;34m,\u001b[0m\u001b[0;34m\u001b[0m\u001b[0;34m\u001b[0m\u001b[0m\n",
      "\u001b[0;32m/usr/local/lib/python3.8/dist-packages/pandas/io/common.py\u001b[0m in \u001b[0;36mget_handle\u001b[0;34m(path_or_buf, mode, encoding, compression, memory_map, is_text, errors, storage_options)\u001b[0m\n\u001b[1;32m    640\u001b[0m                 \u001b[0merrors\u001b[0m \u001b[0;34m=\u001b[0m \u001b[0;34m\"replace\"\u001b[0m\u001b[0;34m\u001b[0m\u001b[0;34m\u001b[0m\u001b[0m\n\u001b[1;32m    641\u001b[0m             \u001b[0;31m# Encoding\u001b[0m\u001b[0;34m\u001b[0m\u001b[0;34m\u001b[0m\u001b[0;34m\u001b[0m\u001b[0m\n\u001b[0;32m--> 642\u001b[0;31m             handle = open(\n\u001b[0m\u001b[1;32m    643\u001b[0m                 \u001b[0mhandle\u001b[0m\u001b[0;34m,\u001b[0m\u001b[0;34m\u001b[0m\u001b[0;34m\u001b[0m\u001b[0m\n\u001b[1;32m    644\u001b[0m                 \u001b[0mioargs\u001b[0m\u001b[0;34m.\u001b[0m\u001b[0mmode\u001b[0m\u001b[0;34m,\u001b[0m\u001b[0;34m\u001b[0m\u001b[0;34m\u001b[0m\u001b[0m\n",
      "\u001b[0;31mFileNotFoundError\u001b[0m: [Errno 2] No such file or directory: 'lotto.csv'"
     ]
    }
   ],
   "source": [
    "#loading all possible combination from csv\n",
    "possible_combinations = pd.read_csv('lotto.csv')"
   ]
  },
  {
   "cell_type": "code",
   "execution_count": 12,
   "metadata": {
    "collapsed": false
   },
   "outputs": [
    {
     "name": "stdout",
     "output_type": "stream",
     "text": [
      "         num_1  num_2  num_3  num_4  num_5  num_6  countA  countB  countC  \\\n",
      "0            1      2      3      4      5      6     6.0     0.0     0.0   \n",
      "1            1      2      3      4      5      7     6.0     0.0     0.0   \n",
      "2            1      2      3      4      5      8     6.0     0.0     0.0   \n",
      "3            1      2      3      4      5      9     6.0     0.0     0.0   \n",
      "4            1      2      3      4      5     10     5.0     1.0     0.0   \n",
      "...        ...    ...    ...    ...    ...    ...     ...     ...     ...   \n",
      "2324779     31     32     33     34     36     37     0.0     0.0     0.0   \n",
      "2324780     31     32     33     35     36     37     0.0     0.0     0.0   \n",
      "2324781     31     32     34     35     36     37     0.0     0.0     0.0   \n",
      "2324782     31     33     34     35     36     37     0.0     0.0     0.0   \n",
      "2324783     32     33     34     35     36     37     0.0     0.0     0.0   \n",
      "\n",
      "         countD pattern  \n",
      "0           0.0       S  \n",
      "1           0.0       S  \n",
      "2           0.0       S  \n",
      "3           0.0       S  \n",
      "4           0.0       V  \n",
      "...         ...     ...  \n",
      "2324779     6.0       S  \n",
      "2324780     6.0       S  \n",
      "2324781     6.0       S  \n",
      "2324782     6.0       S  \n",
      "2324783     6.0       S  \n",
      "\n",
      "[2324784 rows x 11 columns]\n"
     ]
    }
   ],
   "source": [
    "print(possible_combinations)"
   ]
  },
  {
   "cell_type": "code",
   "execution_count": 4,
   "metadata": {
    "collapsed": false
   },
   "outputs": [
   ],
   "source": [
    "#Adding new empty headers to all combinations\n",
    "header_list = [ 'num_1',  'num_2',  'num_3',  'num_4',  'num_5',  'num_6', 'countA','countB','countC','countD','pattern']\n",
    "possible_combinations = possible_combinations.reindex(columns = header_list)"
   ]
  },
  {
   "cell_type": "code",
   "execution_count": 6,
   "metadata": {
    "collapsed": false
   },
   "outputs": [
   ],
   "source": [
    "#Changing \"pattern\" collumn data type from Number to string\n",
    "possible_combinations['pattern'] = possible_combinations.pattern.astype(str)"
   ]
  },
  {
   "cell_type": "code",
   "execution_count": 8,
   "metadata": {
    "collapsed": false
   },
   "outputs": [
   ],
   "source": [
    "# This function receives a row and counts the how many numbers are in each group as defined above (A = {0-9}, B = {10-19}, c = {20-29}, D = {30-37})\n",
    "def classify_row(row):\n",
    "    A=0\n",
    "    B=0\n",
    "    C=0\n",
    "    D=0\n",
    "    for num in row:\n",
    "        if num<10:\n",
    "            A+=1\n",
    "        elif num<20:\n",
    "            B+=1\n",
    "        elif num<30:\n",
    "            C+=1\n",
    "        else:\n",
    "            D+=1\n",
    "    return [A,B,C,D]\n",
    "    "
   ]
  },
  {
   "cell_type": "code",
   "execution_count": 0,
   "metadata": {
    "collapsed": false
   },
   "outputs": [
   ],
   "source": [
    "#check if function works\n",
    "classify_row([1,2,9,23,33,15])"
   ]
  },
  {
   "cell_type": "code",
   "execution_count": 9,
   "metadata": {
    "collapsed": false
   },
   "outputs": [
    {
     "name": "stdout",
     "output_type": "stream",
     "text": [
      "0\n",
      "50000\n",
      "100000\n",
      "150000\n",
      "200000\n",
      "250000\n",
      "300000\n",
      "350000\n",
      "400000\n",
      "450000\n",
      "500000\n",
      "550000\n",
      "600000\n",
      "650000\n",
      "700000\n",
      "750000\n",
      "800000\n",
      "850000\n",
      "900000\n",
      "950000\n",
      "1000000\n",
      "1050000\n",
      "1100000\n",
      "1150000\n",
      "1200000\n",
      "1250000\n",
      "1300000\n",
      "1350000\n",
      "1400000\n",
      "1450000\n",
      "1500000\n",
      "1550000\n",
      "1600000\n",
      "1650000\n",
      "1700000\n",
      "1750000\n",
      "1800000\n",
      "1850000\n",
      "1900000\n",
      "1950000\n",
      "2000000\n",
      "2050000\n",
      "2100000\n",
      "2150000\n",
      "2200000\n",
      "2250000\n",
      "2300000\n"
     ]
    }
   ],
   "source": [
    "# get counts for every group in each row of all possible combinations\n",
    "for i, row in possible_combinations.iterrows():\n",
    "        if i%50000==0:\n",
    "            print (i)\n",
    "        abcd = classify_row(row[:6])\n",
    "        possible_combinations.at[i,'countA']=abcd[0]\n",
    "        possible_combinations.at[i,'countB']=abcd[1]\n",
    "        possible_combinations.at[i,'countC']=abcd[2]\n",
    "        possible_combinations.at[i,'countD']=abcd[3]"
   ]
  },
  {
   "cell_type": "code",
   "execution_count": 43,
   "metadata": {
    "collapsed": false
   },
   "outputs": [
    {
     "name": "stdout",
     "output_type": "stream",
     "text": [
      "V\n"
     ]
    }
   ],
   "source": [
    "classify_pattern([5,1,0,0])"
   ]
  },
  {
   "cell_type": "code",
   "execution_count": 10,
   "metadata": {
    "collapsed": false
   },
   "outputs": [
   ],
   "source": [
    "#This function receives a list of 4 numbers where each number reprecent count of numbers in the combination from group A-D and returns the apropriate pattern\n",
    "# possible patterns are {S, V, Q, QP, T, TP, P, PP, PPP, no pattern = ''}\n",
    "def classify_pattern(row):\n",
    "    row.sort()\n",
    "    pattern = ''\n",
    "    for num in row:\n",
    "        if num==6:\n",
    "            pattern=pattern + 'S'\n",
    "        elif num==5:\n",
    "            pattern=pattern + 'V'\n",
    "        elif num==4:\n",
    "            pattern=pattern + 'Q'\n",
    "        elif num==3:\n",
    "            pattern=pattern + 'T'\n",
    "        elif num==2:\n",
    "            pattern=pattern + 'P'\n",
    "    return pattern"
   ]
  },
  {
   "cell_type": "code",
   "execution_count": 11,
   "metadata": {
    "collapsed": false
   },
   "outputs": [
    {
     "name": "stdout",
     "output_type": "stream",
     "text": [
      "0\n",
      "50000\n",
      "100000\n",
      "150000\n",
      "200000\n",
      "250000\n",
      "300000\n",
      "350000\n",
      "400000\n",
      "450000\n",
      "500000\n",
      "550000\n",
      "600000\n",
      "650000\n",
      "700000\n",
      "750000\n",
      "800000\n",
      "850000\n",
      "900000\n",
      "950000\n",
      "1000000\n",
      "1050000\n",
      "1100000\n",
      "1150000\n",
      "1200000\n",
      "1250000\n",
      "1300000\n",
      "1350000\n",
      "1400000\n",
      "1450000\n",
      "1500000\n",
      "1550000\n",
      "1600000\n",
      "1650000\n",
      "1700000\n",
      "1750000\n",
      "1800000\n",
      "1850000\n",
      "1900000\n",
      "1950000\n",
      "2000000\n",
      "2050000\n",
      "2100000\n",
      "2150000\n",
      "2200000\n",
      "2250000\n",
      "2300000\n"
     ]
    }
   ],
   "source": [
    "# Finding the correct pattern for every possible combination\n",
    "for i, row in possible_combinations.iterrows():\n",
    "        if i%50000==0:\n",
    "            print (i)\n",
    "        pattern = classify_pattern(row[6:10].to_list())\n",
    "        possible_combinations.at[i,'pattern']=pattern\n"
   ]
  },
  {
   "cell_type": "code",
   "execution_count": 0,
   "metadata": {
    "collapsed": false
   },
   "outputs": [
   ],
   "source": [
    "# check that sum of all patterns equals 1 (sanity check)\n"
   ]
  },
  {
   "cell_type": "code",
   "execution_count": 15,
   "metadata": {
    "collapsed": false
   },
   "outputs": [
   ],
   "source": [
    "#saving new file in a zip\n",
    "compression_opts = dict(method='zip',\n",
    "\n",
    "                        archive_name='possible_combinations.csv')  \n",
    "possible_combinations.to_csv('possible_combinations.zip', index=False,\n",
    "\n",
    "          compression=compression_opts)"
   ]
  },
  {
   "cell_type": "code",
   "execution_count": 2,
   "metadata": {
    "collapsed": false,
    "trusted": true
   },
   "outputs": [
   ],
   "source": [
    "#loading new created file with all patterns and group calculated, not mandatory possible to replace line with \"lotto_with_cat=possible_combinations\"\n",
    "lotto_with_cat = pd.read_csv('lotto_categorized.csv')"
   ]
  },
  {
   "cell_type": "code",
   "execution_count": 3,
   "metadata": {
    "collapsed": false
   },
   "outputs": [
    {
     "name": "stdout",
     "output_type": "stream",
     "text": [
      "         num_1  num_2  num_3  num_4  num_5  num_6  countA  countB  countC  \\\n",
      "0            1      2      3      4      5      6     6.0     0.0     0.0   \n",
      "1            1      2      3      4      5      7     6.0     0.0     0.0   \n",
      "2            1      2      3      4      5      8     6.0     0.0     0.0   \n",
      "3            1      2      3      4      5      9     6.0     0.0     0.0   \n",
      "4            1      2      3      4      5     10     5.0     1.0     0.0   \n",
      "...        ...    ...    ...    ...    ...    ...     ...     ...     ...   \n",
      "2324779     31     32     33     34     36     37     0.0     0.0     0.0   \n",
      "2324780     31     32     33     35     36     37     0.0     0.0     0.0   \n",
      "2324781     31     32     34     35     36     37     0.0     0.0     0.0   \n",
      "2324782     31     33     34     35     36     37     0.0     0.0     0.0   \n",
      "2324783     32     33     34     35     36     37     0.0     0.0     0.0   \n",
      "\n",
      "         countD pattern  \n",
      "0           0.0       S  \n",
      "1           0.0       S  \n",
      "2           0.0       S  \n",
      "3           0.0       S  \n",
      "4           0.0       V  \n",
      "...         ...     ...  \n",
      "2324779     6.0       S  \n",
      "2324780     6.0       S  \n",
      "2324781     6.0       S  \n",
      "2324782     6.0       S  \n",
      "2324783     6.0       S  \n",
      "\n",
      "[2324784 rows x 11 columns]\n"
     ]
    }
   ],
   "source": [
    "print(lotto_with_cat)"
   ]
  },
  {
   "cell_type": "code",
   "execution_count": 4,
   "metadata": {
    "collapsed": false
   },
   "outputs": [
   ],
   "source": [
    "# Generating a random sample of 20K combination from all possible combinations\n",
    "random_General = lotto_with_cat.sample(n=20000)"
   ]
  },
  {
   "cell_type": "code",
   "execution_count": 5,
   "metadata": {
    "collapsed": false
   },
   "outputs": [
    {
     "name": "stdout",
     "output_type": "stream",
     "text": [
      "         num_1  num_2  num_3  num_4  num_5  num_6  countA  countB  countC  \\\n",
      "1634946      7     10     11     23     31     34     1.0     2.0     1.0   \n",
      "353125       1     16     19     22     35     36     1.0     2.0     1.0   \n",
      "2234392     15     17     27     29     33     35     0.0     2.0     2.0   \n",
      "1396415      5     16     21     33     34     37     1.0     1.0     1.0   \n",
      "1720258      7     19     21     24     25     27     1.0     1.0     4.0   \n",
      "...        ...    ...    ...    ...    ...    ...     ...     ...     ...   \n",
      "824647       3      7     12     29     31     32     2.0     1.0     1.0   \n",
      "2157772     13     15     16     28     32     35     0.0     3.0     1.0   \n",
      "236701       1      8      9     18     23     37     3.0     1.0     1.0   \n",
      "1910857      9     14     19     22     30     36     1.0     2.0     1.0   \n",
      "1516464      6     11     16     25     27     29     1.0     2.0     3.0   \n",
      "\n",
      "         countD pattern  \n",
      "1634946     2.0      PP  \n",
      "353125      2.0      PP  \n",
      "2234392     2.0     PPP  \n",
      "1396415     3.0       T  \n",
      "1720258     0.0       Q  \n",
      "...         ...     ...  \n",
      "824647      2.0      PP  \n",
      "2157772     2.0      PT  \n",
      "236701      1.0       T  \n",
      "1910857     2.0      PP  \n",
      "1516464     0.0      PT  \n",
      "\n",
      "[20000 rows x 11 columns]\n"
     ]
    }
   ],
   "source": [
    "#look at data\n",
    "print(random_General)"
   ]
  },
  {
   "cell_type": "code",
   "execution_count": 6,
   "metadata": {
    "collapsed": false
   },
   "outputs": [
   ],
   "source": [
    "#preparing data for function\n",
    "random_General = random_General.drop(columns=['countA', 'countB','countC','countD','pattern'])\n",
    "random_General = random_General.reset_index(drop=True)"
   ]
  },
  {
   "cell_type": "code",
   "execution_count": 7,
   "metadata": {
    "collapsed": false,
    "trusted": true
   },
   "outputs": [
   ],
   "source": [
    "# Creating a data frame with only PP from general data second most common pattern with theoretical precentage of 31.5%\n",
    "PP = lotto_with_cat[lotto_with_cat[\"pattern\"]==\"PP\"]"
   ]
  },
  {
   "cell_type": "code",
   "execution_count": 8,
   "metadata": {
    "collapsed": false,
    "trusted": true
   },
   "outputs": [
    {
     "name": "stdout",
     "output_type": "stream",
     "text": [
      "         num_1  num_2  num_3  num_4  num_5  num_6  countA  countB  countC  \\\n",
      "32066        1      2     10     11     20     30     2.0     2.0     1.0   \n",
      "32067        1      2     10     11     20     31     2.0     2.0     1.0   \n",
      "32068        1      2     10     11     20     32     2.0     2.0     1.0   \n",
      "32069        1      2     10     11     20     33     2.0     2.0     1.0   \n",
      "32070        1      2     10     11     20     34     2.0     2.0     1.0   \n",
      "...        ...    ...    ...    ...    ...    ...     ...     ...     ...   \n",
      "1939289      9     19     28     29     34     36     1.0     1.0     2.0   \n",
      "1939290      9     19     28     29     34     37     1.0     1.0     2.0   \n",
      "1939291      9     19     28     29     35     36     1.0     1.0     2.0   \n",
      "1939292      9     19     28     29     35     37     1.0     1.0     2.0   \n",
      "1939293      9     19     28     29     36     37     1.0     1.0     2.0   \n",
      "\n",
      "         countD pattern  \n",
      "32066       1.0      PP  \n",
      "32067       1.0      PP  \n",
      "32068       1.0      PP  \n",
      "32069       1.0      PP  \n",
      "32070       1.0      PP  \n",
      "...         ...     ...  \n",
      "1939289     2.0      PP  \n",
      "1939290     2.0      PP  \n",
      "1939291     2.0      PP  \n",
      "1939292     2.0      PP  \n",
      "1939293     2.0      PP  \n",
      "\n",
      "[732600 rows x 11 columns]\n"
     ]
    }
   ],
   "source": [
    "# sanity check\n",
    "print(PP)"
   ]
  },
  {
   "cell_type": "code",
   "execution_count": 9,
   "metadata": {
    "collapsed": false,
    "trusted": true
   },
   "outputs": [
   ],
   "source": [
    "# Creating a data frame with only PT from general data most common pattern with theoretical precentage of ~ 33.9%\n",
    "PT = lotto_with_cat[lotto_with_cat[\"pattern\"]==\"PT\"]"
   ]
  },
  {
   "cell_type": "code",
   "execution_count": 10,
   "metadata": {
    "collapsed": false,
    "trusted": true
   },
   "outputs": [
    {
     "name": "stdout",
     "output_type": "stream",
     "text": [
      "         num_1  num_2  num_3  num_4  num_5  num_6  countA  countB  countC  \\\n",
      "2716         1      2      3     10     11     20     3.0     2.0     1.0   \n",
      "2717         1      2      3     10     11     21     3.0     2.0     1.0   \n",
      "2718         1      2      3     10     11     22     3.0     2.0     1.0   \n",
      "2719         1      2      3     10     11     23     3.0     2.0     1.0   \n",
      "2720         1      2      3     10     11     24     3.0     2.0     1.0   \n",
      "...        ...    ...    ...    ...    ...    ...     ...     ...     ...   \n",
      "2306019     19     28     29     33     36     37     0.0     1.0     2.0   \n",
      "2306020     19     28     29     34     35     36     0.0     1.0     2.0   \n",
      "2306021     19     28     29     34     35     37     0.0     1.0     2.0   \n",
      "2306022     19     28     29     34     36     37     0.0     1.0     2.0   \n",
      "2306023     19     28     29     35     36     37     0.0     1.0     2.0   \n",
      "\n",
      "         countD pattern  \n",
      "2716        0.0      PT  \n",
      "2717        0.0      PT  \n",
      "2718        0.0      PT  \n",
      "2719        0.0      PT  \n",
      "2720        0.0      PT  \n",
      "...         ...     ...  \n",
      "2306019     3.0      PT  \n",
      "2306020     3.0      PT  \n",
      "2306021     3.0      PT  \n",
      "2306022     3.0      PT  \n",
      "2306023     3.0      PT  \n",
      "\n",
      "[786000 rows x 11 columns]\n"
     ]
    }
   ],
   "source": [
    "# sanity check\n",
    "print(PT)"
   ]
  },
  {
   "cell_type": "code",
   "execution_count": 11,
   "metadata": {
    "collapsed": false,
    "trusted": true
   },
   "outputs": [
   ],
   "source": [
    "#sample of size 10K from all possible pp combinations\n",
    "random_PP = PP.sample(n=20000)"
   ]
  },
  {
   "cell_type": "code",
   "execution_count": 12,
   "metadata": {
    "collapsed": false,
    "trusted": true
   },
   "outputs": [
   ],
   "source": [
    "#sample of size 10K from all possible pT combinations\n",
    "random_PT = PT.sample(n=20000)"
   ]
  },
  {
   "cell_type": "code",
   "execution_count": 13,
   "metadata": {
    "collapsed": false,
    "trusted": true
   },
   "outputs": [
   ],
   "source": [
    "# concat both samples to create a 20k sample of both best patterns\n",
    "frames = [random_PP, random_PT]\n",
    "sample = pd.concat(frames)"
   ]
  },
  {
   "cell_type": "code",
   "execution_count": 14,
   "metadata": {
    "collapsed": false,
    "trusted": true
   },
   "outputs": [
   ],
   "source": [
    "# save sample for future use\n",
    "compression_opts = dict(method='zip',\n",
    "\n",
    "                        archive_name='lotto_sample_PP_PT.csv')  \n",
    "sample.to_csv('lotto_sample_PP_PT.zip', index=False,\n",
    "\n",
    "          compression=compression_opts)"
   ]
  },
  {
   "cell_type": "code",
   "execution_count": 15,
   "metadata": {
    "collapsed": false
   },
   "outputs": [
   ],
   "source": [
    "# If allready have sample not mandatory to run\n",
    "sample = pd.read_csv('lotto_sample_PP_PT.csv')"
   ]
  },
  {
   "cell_type": "code",
   "execution_count": 16,
   "metadata": {
    "collapsed": false,
    "trusted": true
   },
   "outputs": [
   ],
   "source": [
    "# Deleteing unnecsecary collumns\n",
    "sample = sample.drop(columns=['countA', 'countB','countC','countD','pattern'])"
   ]
  },
  {
   "cell_type": "code",
   "execution_count": 17,
   "metadata": {
    "collapsed": false
   },
   "outputs": [
   ],
   "source": [
    "# Reindexing sample\n",
    "sample = sample.reset_index(drop=True)"
   ]
  },
  {
   "cell_type": "code",
   "execution_count": 2,
   "metadata": {
    "collapsed": false,
    "trusted": true
   },
   "outputs": [
   ],
   "source": [
    "# Loading relevant lottery numbers as taken from https://www.pais.co.il/lotto/archive.aspx# only relevant numbers are from 28.2.2009 source wikipedia new israeli lottery https://he.wikipedia.org/wiki/%D7%9E%D7%A4%D7%A2%D7%9C_%D7%94%D7%A4%D7%99%D7%A1\n",
    "lotto_winning = pd.read_csv('winning_nums.csv')"
   ]
  },
  {
   "cell_type": "code",
   "execution_count": 3,
   "metadata": {
    "collapsed": false,
    "trusted": true
   },
   "outputs": [
    {
     "name": "stdout",
     "output_type": "stream",
     "text": [
      "      num_1  num_2  num_3  num_4  num_5  num_6\n",
      "0         4      6     14     20     28     31\n",
      "1        10     11     12     20     26     35\n",
      "2         4      8     13     17     28     29\n",
      "3        11     22     23     25     32     34\n",
      "4         2      5     11     18     24     25\n",
      "...     ...    ...    ...    ...    ...    ...\n",
      "1328      7      9     10     11     20     33\n",
      "1329      3      8     10     11     19     31\n",
      "1330      5     11     15     28     30     34\n",
      "1331      1      2     10     14     17     21\n",
      "1332      1      7     10     24     28     35\n",
      "\n",
      "[1333 rows x 6 columns]\n"
     ]
    }
   ],
   "source": [
    "# check data frame structure\n",
    "print(lotto_winning)"
   ]
  },
  {
   "cell_type": "code",
   "execution_count": 20,
   "metadata": {
    "collapsed": false,
    "trusted": true
   },
   "outputs": [
   ],
   "source": [
    "# this function returns the total number of correct guesses in a single combination\n",
    "def check_if_winner(row_to_check,winning_row):\n",
    "    countMatch=0\n",
    "    for i in row_to_check:\n",
    "        for j in winning_row:\n",
    "            if i==j:\n",
    "                countMatch+=1\n",
    "                break\n",
    "    return countMatch"
   ]
  },
  {
   "cell_type": "code",
   "execution_count": 25,
   "metadata": {
    "collapsed": false,
    "trusted": true
   },
   "outputs": [
   ],
   "source": [
    "# This function gets a combination to run and historic lottery winning combination and checks for each lottery roll all the possible combinations and count the\n",
    "# the different kind of wins return value is an array with aggregated sum of all wins wins(3 strike, 4 strike, 5 strike, six strike)\n",
    "# in order to keep truck it also prints the count every 2000 combinations\n",
    "def count_wins(sample,lotto_winning):\n",
    "    wins=[0,0,0,0]\n",
    "    for i, row in sample.iterrows():\n",
    "        if i%2000==0:\n",
    "            print(i)\n",
    "            print(wins)\n",
    "        for j, rows in lotto_winning.iterrows():\n",
    "            win = check_if_winner(row,rows)\n",
    "            if win == 3:\n",
    "                wins[0]=wins[0]+1\n",
    "            elif win == 4:\n",
    "                wins[1]=wins[1]+1\n",
    "            elif win == 5: \n",
    "                wins[2]=wins[2]+1   \n",
    "            elif win == 6:   \n",
    "                wins[3]=wins[3]+1                   \n",
    "    return wins"
   ]
  },
  {
   "cell_type": "code",
   "execution_count": 22,
   "metadata": {
    "collapsed": false
   },
   "outputs": [
   ],
   "source": [
    "random_PT = random_PT.drop(columns=['countA', 'countB','countC','countD','pattern'])\n",
    "random_PT = random_PT.reset_index(drop=True)"
   ]
  },
  {
   "cell_type": "code",
   "execution_count": 23,
   "metadata": {
    "collapsed": false
   },
   "outputs": [
    {
     "name": "stdout",
     "output_type": "stream",
     "text": [
      "       num_1  num_2  num_3  num_4  num_5  num_6\n",
      "0          8     10     11     21     23     27\n",
      "1          7     11     14     15     21     23\n",
      "2          2      3      5     14     20     28\n",
      "3          2     11     12     16     23     25\n",
      "4          7      8     19     30     35     36\n",
      "...      ...    ...    ...    ...    ...    ...\n",
      "19995      2      8     12     13     19     34\n",
      "19996      1      2      6     13     16     31\n",
      "19997     13     24     25     31     33     34\n",
      "19998      1      8     13     30     32     37\n",
      "19999      4     14     18     19     28     29\n",
      "\n",
      "[20000 rows x 6 columns]\n"
     ]
    }
   ],
   "source": [
    "print(random_PT)"
   ]
  },
  {
   "cell_type": "code",
   "execution_count": 24,
   "metadata": {
    "collapsed": false
   },
   "outputs": [
    {
     "name": "stdout",
     "output_type": "stream",
     "text": [
      "0\n"
     ]
    },
    {
     "name": "stdout",
     "output_type": "stream",
     "text": [
      "2000\n"
     ]
    },
    {
     "name": "stdout",
     "output_type": "stream",
     "text": [
      "4000\n"
     ]
    },
    {
     "name": "stdout",
     "output_type": "stream",
     "text": [
      "6000\n"
     ]
    },
    {
     "name": "stdout",
     "output_type": "stream",
     "text": [
      "8000\n"
     ]
    },
    {
     "name": "stdout",
     "output_type": "stream",
     "text": [
      "10000\n"
     ]
    },
    {
     "name": "stdout",
     "output_type": "stream",
     "text": [
      "12000\n"
     ]
    },
    {
     "name": "stdout",
     "output_type": "stream",
     "text": [
      "14000\n"
     ]
    },
    {
     "name": "stdout",
     "output_type": "stream",
     "text": [
      "16000\n"
     ]
    },
    {
     "name": "stdout",
     "output_type": "stream",
     "text": [
      "18000\n"
     ]
    },
    {
     "name": "stdout",
     "output_type": "stream",
     "text": [
      "[1033219, 80068, 2062, 11]\n"
     ]
    }
   ],
   "source": [
    "# Check total win number for random sample of   PT pattern\n",
    "# theoretical expected win value = 11.46 6/6 wins 20000 guesses *1333 lottery roll \\ 2324784 possiblecombinations\n",
    "print(count_wins(random_PT,lotto_winning))"
   ]
  },
  {
   "cell_type": "code",
   "execution_count": 28,
   "metadata": {
    "collapsed": false,
    "trusted": true
   },
   "outputs": [
    {
     "name": "stdout",
     "output_type": "stream",
     "text": [
      "0\n"
     ]
    },
    {
     "name": "stdout",
     "output_type": "stream",
     "text": [
      "2000\n"
     ]
    },
    {
     "name": "stdout",
     "output_type": "stream",
     "text": [
      "4000\n"
     ]
    },
    {
     "name": "stdout",
     "output_type": "stream",
     "text": [
      "6000\n"
     ]
    },
    {
     "name": "stdout",
     "output_type": "stream",
     "text": [
      "8000\n"
     ]
    },
    {
     "name": "stdout",
     "output_type": "stream",
     "text": [
      "10000\n"
     ]
    },
    {
     "name": "stdout",
     "output_type": "stream",
     "text": [
      "12000\n"
     ]
    },
    {
     "name": "stdout",
     "output_type": "stream",
     "text": [
      "14000\n"
     ]
    },
    {
     "name": "stdout",
     "output_type": "stream",
     "text": [
      "16000\n"
     ]
    },
    {
     "name": "stdout",
     "output_type": "stream",
     "text": [
      "18000\n"
     ]
    },
    {
     "name": "stdout",
     "output_type": "stream",
     "text": [
      "[1030563, 79666, 2161, 13]\n"
     ]
    }
   ],
   "source": [
    "# Check total win number for random sample of  PP and PT patterns\n",
    "# theoretical expected win value = 11.46 6/6 wins 20000 guesses *1333 lottery roll \\ 2324784 possiblecombinations\n",
    "print(count_wins(sample,lotto_winning))"
   ]
  },
  {
   "cell_type": "code",
   "execution_count": 34,
   "metadata": {
    "collapsed": false
   },
   "outputs": [
    {
     "name": "stdout",
     "output_type": "stream",
     "text": [
      "0\n"
     ]
    },
    {
     "name": "stdout",
     "output_type": "stream",
     "text": [
      "2000\n"
     ]
    },
    {
     "name": "stdout",
     "output_type": "stream",
     "text": [
      "4000\n"
     ]
    },
    {
     "name": "stdout",
     "output_type": "stream",
     "text": [
      "6000\n"
     ]
    },
    {
     "name": "stdout",
     "output_type": "stream",
     "text": [
      "8000\n"
     ]
    },
    {
     "name": "stdout",
     "output_type": "stream",
     "text": [
      "10000\n"
     ]
    },
    {
     "name": "stdout",
     "output_type": "stream",
     "text": [
      "12000\n"
     ]
    },
    {
     "name": "stdout",
     "output_type": "stream",
     "text": [
      "14000\n"
     ]
    },
    {
     "name": "stdout",
     "output_type": "stream",
     "text": [
      "16000\n"
     ]
    },
    {
     "name": "stdout",
     "output_type": "stream",
     "text": [
      "18000\n"
     ]
    },
    {
     "name": "stdout",
     "output_type": "stream",
     "text": [
      "[1031183, 79143, 2077, 6]\n"
     ]
    }
   ],
   "source": [
    "# check total wins for random sample of all combinations\n",
    "# theoretical expected win value = 11.46 6/6 wins 20000 guesses *1333 lottery roll \\ 2324784 possiblecombinations\n",
    "print(count_wins(random_General,lotto_winning))"
   ]
  },
  {
   "cell_type": "code",
   "execution_count": 0,
   "metadata": {
    "collapsed": false
   },
   "outputs": [
   ],
   "source": [
    "print(count_wins(random_General,lotto_winning))"
   ]
  },
  {
   "cell_type": "code",
   "execution_count": 2,
   "metadata": {
    "collapsed": false
   },
   "outputs": [
   ],
   "source": [
    "def probability(possible_guesses, probabilty_of_unicness):\n",
    "    probability = 1\n",
    "    i=1\n",
    "    while probability>(1-probabilty_of_unicness):\n",
    "        probability = probability * ((possible_guesses-i)/possible_guesses)\n",
    "        i+=1\n",
    "    answer=[i,1-probability]\n",
    "    return answer"
   ]
  },
  {
   "cell_type": "code",
   "execution_count": 10,
   "metadata": {
    "collapsed": false
   },
   "outputs": [
    {
     "name": "stdout",
     "output_type": "stream",
     "text": [
      "[38, 0.5096705921517373]\n"
     ]
    }
   ],
   "source": [
    "print(probability(999,0.50))"
   ]
  },
  {
   "cell_type": "code",
   "execution_count": 6,
   "metadata": {
    "collapsed": false
   },
   "outputs": [
   ],
   "source": [
    "def sum_until_number(num):\n",
    "    answer=0\n",
    "    for i in range(num):\n",
    "        answer=answer+i\n",
    "    return answer"
   ]
  },
  {
   "cell_type": "code",
   "execution_count": 11,
   "metadata": {
    "collapsed": false
   },
   "outputs": [
    {
     "name": "stdout",
     "output_type": "stream",
     "text": [
      "703\n"
     ]
    }
   ],
   "source": [
    "print(sum_until_number(38))"
   ]
  },
  {
   "cell_type": "code",
   "execution_count": 6,
   "metadata": {
    "collapsed": false
   },
   "outputs": [
   ],
   "source": [
    "def check_if_unique (lotto_winning):\n",
    "    for i ,row in lotto_winning.iterrows():\n",
    "        for j ,rows in lotto_winning.iterrows():\n",
    "            if i!=j:\n",
    "                if check_if_identical(row,rows):\n",
    "                    print(row)\n",
    "                    print(rows)"
   ]
  },
  {
   "cell_type": "code",
   "execution_count": 4,
   "metadata": {
    "collapsed": false
   },
   "outputs": [
   ],
   "source": [
    "def check_if_identical(row_to_check,winning_row):\n",
    "    if row_to_check[0]==winning_row[0] and row_to_check[1]==winning_row[1] and row_to_check[2]==winning_row[2] and row_to_check[3]==winning_row[3] and row_to_check[4]==winning_row[4] and row_to_check[5]==winning_row[5]:\n",
    "        return True\n",
    "    return False"
   ]
  },
  {
   "cell_type": "code",
   "execution_count": 7,
   "metadata": {
    "collapsed": false
   },
   "outputs": [
    {
     "name": "stdout",
     "output_type": "stream",
     "text": [
      "num_1    13\n",
      "num_2    14\n",
      "num_3    26\n",
      "num_4    32\n",
      "num_5    33\n",
      "num_6    36\n",
      "Name: 1153, dtype: int64\n",
      "num_1    13\n",
      "num_2    14\n",
      "num_3    26\n",
      "num_4    32\n",
      "num_5    33\n",
      "num_6    36\n",
      "Name: 1160, dtype: int64\n"
     ]
    },
    {
     "name": "stdout",
     "output_type": "stream",
     "text": [
      "num_1    13\n",
      "num_2    14\n",
      "num_3    26\n",
      "num_4    32\n",
      "num_5    33\n",
      "num_6    36\n",
      "Name: 1160, dtype: int64\n",
      "num_1    13\n",
      "num_2    14\n",
      "num_3    26\n",
      "num_4    32\n",
      "num_5    33\n",
      "num_6    36\n",
      "Name: 1153, dtype: int64\n"
     ]
    }
   ],
   "source": [
    "check_if_unique (lotto_winning)"
   ]
  },
  {
   "cell_type": "code",
   "execution_count": 8,
   "metadata": {
    "collapsed": false
   },
   "outputs": [
   ],
   "source": [
    "import numpy as np"
   ]
  },
  {
   "cell_type": "code",
   "execution_count": 13,
   "metadata": {
    "collapsed": false
   },
   "outputs": [
   ],
   "source": [
    "data = np.random.randint(1, 37, size=6)\n"
   ]
  },
  {
   "cell_type": "code",
   "execution_count": 15,
   "metadata": {
    "collapsed": false
   },
   "outputs": [
    {
     "name": "stdout",
     "output_type": "stream",
     "text": [
      "[ 1  4 16 27 36 36]\n"
     ]
    }
   ],
   "source": [
    "print(data)"
   ]
  },
  {
   "cell_type": "code",
   "execution_count": 14,
   "metadata": {
    "collapsed": false
   },
   "outputs": [
   ],
   "source": [
    "data.sort()"
   ]
  },
  {
   "cell_type": "code",
   "execution_count": 38,
   "metadata": {
    "collapsed": false
   },
   "outputs": [
   ],
   "source": [
    "def create_all_possible_combinations(n,k):\n",
    "    res = []\n",
    "    temp = ['']*k\n",
    "    find_all(res,temp,0,n,0,k)\n",
    "    df = pd.DataFrame(res)\n",
    "    return df"
   ]
  },
  {
   "cell_type": "code",
   "execution_count": 44,
   "metadata": {
    "collapsed": false
   },
   "outputs": [
   ],
   "source": [
    "def find_all(res,temp,ind,n,i,k):\n",
    "    if ind == k:\n",
    "        res.append(temp.copy())\n",
    "        temp=['']*k\n",
    "        return\n",
    "    if i>=n :\n",
    "        return\n",
    "    temp[ind]=i+1\n",
    "    find_all(res,temp,ind+1,n,i+1,k)\n",
    "    find_all(res,temp,ind,n,i+1,k)"
   ]
  },
  {
   "cell_type": "code",
   "execution_count": 45,
   "metadata": {
    "collapsed": false,
    "scrolled": true
   },
   "outputs": [
    {
     "name": "stdout",
     "output_type": "stream",
     "text": [
      "          0   1   2   3   4   5\n",
      "0         1   2   3   4   5   6\n",
      "1         1   2   3   4   5   7\n",
      "2         1   2   3   4   5   8\n",
      "3         1   2   3   4   5   9\n",
      "4         1   2   3   4   5  10\n",
      "...      ..  ..  ..  ..  ..  ..\n",
      "2324779  31  32  33  34  36  37\n",
      "2324780  31  32  33  35  36  37\n",
      "2324781  31  32  34  35  36  37\n",
      "2324782  31  33  34  35  36  37\n",
      "2324783  32  33  34  35  36  37\n",
      "\n",
      "[2324784 rows x 6 columns]\n"
     ]
    }
   ],
   "source": [
    "print(create_all_possible_combinations(37,6))"
   ]
  },
  {
   "cell_type": "code",
   "execution_count": 0,
   "metadata": {
    "collapsed": false
   },
   "outputs": [
   ],
   "source": [
   ]
  }
 ],
 "metadata": {
  "kernelspec": {
   "display_name": "Python 3 (system-wide)",
   "language": "python",
   "metadata": {
    "cocalc": {
     "description": "Python 3 programming language",
     "priority": 100,
     "url": "https://www.python.org/"
    }
   },
   "name": "python3",
   "resource_dir": "/ext/jupyter/kernels/python3"
  },
  "language_info": {
   "codemirror_mode": {
    "name": "ipython",
    "version": 3
   },
   "file_extension": ".py",
   "mimetype": "text/x-python",
   "name": "python",
   "nbconvert_exporter": "python",
   "pygments_lexer": "ipython3",
   "version": "3.8.5"
  }
 },
 "nbformat": 4,
 "nbformat_minor": 4
}